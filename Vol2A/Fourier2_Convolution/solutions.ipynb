{
 "cells": [
  {
   "cell_type": "code",
   "execution_count": null,
   "metadata": {
    "collapsed": true
   },
   "outputs": [],
   "source": [
    "from matplotlib import pyplot as plt\n",
    "import numpy as np\n",
    "from scipy.io import wavfile\n",
    "import IPython\n",
    "import scipy as sp\n",
    "import scipy.stats as stats\n",
    "from scipy import signal\n",
    "%matplotlib inline"
   ]
  },
  {
   "cell_type": "code",
   "execution_count": null,
   "metadata": {
    "collapsed": true
   },
   "outputs": [],
   "source": [
    "# Fourier 2, Problem 1\n",
    "rate, data = wavfile.read(\"Noisysignal2.wav\")\n",
    "fsig = sp.fft(data, axis=0)\n",
    "\n",
    "# Cleaning the signal; set coefficients of high frequencies to 0\n",
    "for j in xrange(14000, 50000):\n",
    "    fsig[j] = 0\n",
    "    fsig[-j] = 0\n",
    "    \n",
    "# Cast inverse Fourier transform as reals and scale appropriately\n",
    "newsig = sp.real(sp.ifft(fsig))\n",
    "newsig = sp.int16(newsig / sp.absolute(newsig).max()*32767)\n",
    "\n",
    "wavfile.write(\"Cleannoise.wav\", rate, newsig)\n",
    "IPython.display.Audio(\"Cleannoise.wav\")"
   ]
  },
  {
   "cell_type": "code",
   "execution_count": null,
   "metadata": {
    "collapsed": false
   },
   "outputs": [],
   "source": [
    "# Fourier 2, Problem 3\n",
    "\n",
    "# Step 1: Read in chopin.wav and the impulse response with wavfile\n",
    "rate1, data1 = wavfile.read(\"chopin.wav\")\n",
    "rate2, data2 = wavfile.read(\"balloon.wav\")\n",
    "\n",
    "# Steps 2, 3: Add silence to chopin.wav and balloon.wav to make their lengths equal\n",
    "sig1 = np.append(data1, np.zeros_like(data2))\n",
    "sig2 = np.append(data2, np.zeros_like(data1))\n",
    "\n",
    "# Step 4: Calculate the convolution\n",
    "source_fft = sp.fft(sig1)\n",
    "imp_fft = sp.fft(sig2)\n",
    "\n",
    "# Step 5: Calculate the inverse Fourier Transform\n",
    "inverse = sp.ifft(imp_fft * source_fft)\n",
    "\n",
    "# Display the audio\n",
    "real_inv = sp.real(inverse)\n",
    "scaled = sp.int16(real_inv/sp.absolute(real_inv).max()*32767)\n",
    "wavfile.write(\"chopin_echo.wav\", rate1, scaled)\n",
    "IPython.display.Audio(\"chopin_echo.wav\")"
   ]
  },
  {
   "cell_type": "code",
   "execution_count": null,
   "metadata": {
    "collapsed": false
   },
   "outputs": [],
   "source": [
    "# Fourier 2, Problem 4\n",
    "samplerate = 22050\n",
    "noise = sp.int16(sp.random.randint(-32767, 32767, samplerate*10))\n",
    "wavfile.write(\"whitenoise.wav\", samplerate, noise)\n",
    "IPython.display.Audio(\"whitenoise.wav\")"
   ]
  }
 ],
 "metadata": {
  "anaconda-cloud": {},
  "kernelspec": {
   "display_name": "Python [Root]",
   "language": "python",
   "name": "Python [Root]"
  },
  "language_info": {
   "codemirror_mode": {
    "name": "ipython",
    "version": 2
   },
   "file_extension": ".py",
   "mimetype": "text/x-python",
   "name": "python",
   "nbconvert_exporter": "python",
   "pygments_lexer": "ipython2",
   "version": "2.7.12"
  }
 },
 "nbformat": 4,
 "nbformat_minor": 0
}
