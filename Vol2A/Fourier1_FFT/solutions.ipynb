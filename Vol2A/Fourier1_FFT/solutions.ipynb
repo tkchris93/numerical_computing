{
 "cells": [
  {
   "cell_type": "code",
   "execution_count": null,
   "metadata": {
    "collapsed": true,
    "scrolled": true
   },
   "outputs": [],
   "source": [
    "from matplotlib import pyplot as plt\n",
    "import scipy as sp\n",
    "from scipy.io import wavfile\n",
    "import numpy as np\n",
    "import IPython\n",
    "%matplotlib inline"
   ]
  },
  {
   "cell_type": "code",
   "execution_count": null,
   "metadata": {
    "collapsed": true,
    "scrolled": true
   },
   "outputs": [],
   "source": [
    "# Problems 1, 2, 5\n",
    "class Signal(object):\n",
    "    def __init__(self, rate, samples):\n",
    "        self.rate = rate\n",
    "        self.samples = sp.array(samples, dtype=sp.float32)\n",
    "    \n",
    "    def plot(self):\n",
    "        x1 = np.linspace(0, self.samples.size/self.rate, self.samples.size)\n",
    "        plt.subplot(121)\n",
    "        plt.plot(x1, self.samples)\n",
    "        plt.xlabel(\"Seconds\")\n",
    "        plt.subplot(122)\n",
    "        dft = abs(sp.fft(self.samples))\n",
    "        # Scale by 50 to cut off repeated portion of graph to see spikes more clearly\n",
    "        x = dft.size/50\n",
    "        x2 = np.linspace(0, dft.size, x)\n",
    "        plt.plot(x2, dft[:x])\n",
    "        plt.xlabel(\"Cycles/Second\")\n",
    "        plt.show()\n",
    "        \n",
    "    def export(self, filename):\n",
    "        ratio = sp.real(self.samples)\n",
    "        ratio = sp.int16(ratio * 32767. / ratio.max())\n",
    "        return wavfile.write(filename, self.rate, ratio)\n",
    "\n",
    "    def __add__(self, other):\n",
    "        return Signal(self.rate, self.samples + other.samples)\n",
    "    \n",
    "    def append(self, other):\n",
    "        self.samples = sp.append(self.samples, other.samples)"
   ]
  },
  {
   "cell_type": "code",
   "execution_count": null,
   "metadata": {
    "collapsed": false,
    "scrolled": true
   },
   "outputs": [],
   "source": [
    "# Problem 3\n",
    "wave_function = lambda x, frequency: np.sin(2*np.pi*x*frequency)\n",
    "def generate_note(frequency, duration):\n",
    "    sample_rate = 44100.\n",
    "    step_size = 1./sample_rate\n",
    "    sample_points = np.arange(0, duration, step_size)\n",
    "    samples = wave_function(sample_points, frequency)\n",
    "    return Signal(sample_rate, samples)\n",
    "\n",
    "# an 'A' note:\n",
    "generate_note(440.,5.).export(\"sine.wav\")\n",
    "IPython.display.Audio(\"sine.wav\")"
   ]
  },
  {
   "cell_type": "code",
   "execution_count": null,
   "metadata": {
    "collapsed": false,
    "scrolled": true
   },
   "outputs": [],
   "source": [
    "# Problem 4\n",
    "def DFT(function):\n",
    "    C = []\n",
    "    for k in xrange(function.size):\n",
    "        sum = 0\n",
    "        for n in xrange(function.size):\n",
    "            sum += function[n]*np.exp((-2.*np.pi*1j*k*n)/function.size)\n",
    "        C.append(sum)\n",
    "    return np.array(C)"
   ]
  },
  {
   "cell_type": "code",
   "execution_count": null,
   "metadata": {
    "collapsed": false,
    "scrolled": true
   },
   "outputs": [],
   "source": [
    "# Problem 6\n",
    "A = generate_note(440., 3)\n",
    "C = generate_note(523.25, 3)\n",
    "E = generate_note(659.25, 3)\n",
    "G = generate_note(783.99, 3)\n",
    "B = generate_note(493.88, 3)\n",
    "D = generate_note(587.33, 3)\n",
    "chord1 = A + C + E + D\n",
    "chord2 = G + B + D\n",
    "chord1.plot()\n",
    "chord2.plot()\n",
    "chord2.append(generate_note(783.99,3))\n",
    "chord2.export(\"chord2.wav\")\n",
    "IPython.display.Audio(\"chord2.wav\")"
   ]
  }
 ],
 "metadata": {
  "anaconda-cloud": {},
  "kernelspec": {
   "display_name": "Python [Root]",
   "language": "python",
   "name": "Python [Root]"
  },
  "language_info": {
   "codemirror_mode": {
    "name": "ipython",
    "version": 2
   },
   "file_extension": ".py",
   "mimetype": "text/x-python",
   "name": "python",
   "nbconvert_exporter": "python",
   "pygments_lexer": "ipython2",
   "version": "2.7.12"
  }
 },
 "nbformat": 4,
 "nbformat_minor": 0
}
