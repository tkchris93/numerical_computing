{
 "cells": [
  {
   "cell_type": "code",
   "execution_count": 1,
   "metadata": {
    "ExecuteTime": {
     "end_time": "2017-01-06T13:38:58.922555",
     "start_time": "2017-01-06T13:38:58.134879"
    },
    "collapsed": true
   },
   "outputs": [],
   "source": [
    "import numpy as np\n",
    "import json\n",
    "import requests\n",
    "from bokeh.plotting import figure\n",
    "from bokeh.io import output_notebook, show\n",
    "from bokeh.models import ColumnDataSource, HoverTool, WMTSTileSource, LogColorMapper"
   ]
  },
  {
   "cell_type": "code",
   "execution_count": 2,
   "metadata": {
    "ExecuteTime": {
     "end_time": "2017-01-06T13:38:58.936838",
     "start_time": "2017-01-06T13:38:58.924456"
    },
    "collapsed": false
   },
   "outputs": [
    {
     "data": {
      "text/html": [
       "\n",
       "    <div class=\"bk-root\">\n",
       "        <a href=\"http://bokeh.pydata.org\" target=\"_blank\" class=\"bk-logo bk-logo-small bk-logo-notebook\"></a>\n",
       "        <span id=\"4ec7df39-b353-4784-81a5-d51c05a97b7f\">Loading BokehJS ...</span>\n",
       "    </div>"
      ]
     },
     "metadata": {},
     "output_type": "display_data"
    },
    {
     "data": {
      "application/javascript": [
       "\n",
       "(function(global) {\n",
       "  function now() {\n",
       "    return new Date();\n",
       "  }\n",
       "\n",
       "  var force = \"1\";\n",
       "\n",
       "  if (typeof (window._bokeh_onload_callbacks) === \"undefined\" || force !== \"\") {\n",
       "    window._bokeh_onload_callbacks = [];\n",
       "    window._bokeh_is_loading = undefined;\n",
       "  }\n",
       "\n",
       "\n",
       "  \n",
       "  if (typeof (window._bokeh_timeout) === \"undefined\" || force !== \"\") {\n",
       "    window._bokeh_timeout = Date.now() + 5000;\n",
       "    window._bokeh_failed_load = false;\n",
       "  }\n",
       "\n",
       "  var NB_LOAD_WARNING = {'data': {'text/html':\n",
       "     \"<div style='background-color: #fdd'>\\n\"+\n",
       "     \"<p>\\n\"+\n",
       "     \"BokehJS does not appear to have successfully loaded. If loading BokehJS from CDN, this \\n\"+\n",
       "     \"may be due to a slow or bad network connection. Possible fixes:\\n\"+\n",
       "     \"</p>\\n\"+\n",
       "     \"<ul>\\n\"+\n",
       "     \"<li>re-rerun `output_notebook()` to attempt to load from CDN again, or</li>\\n\"+\n",
       "     \"<li>use INLINE resources instead, as so:</li>\\n\"+\n",
       "     \"</ul>\\n\"+\n",
       "     \"<code>\\n\"+\n",
       "     \"from bokeh.resources import INLINE\\n\"+\n",
       "     \"output_notebook(resources=INLINE)\\n\"+\n",
       "     \"</code>\\n\"+\n",
       "     \"</div>\"}};\n",
       "\n",
       "  function display_loaded() {\n",
       "    if (window.Bokeh !== undefined) {\n",
       "      Bokeh.$(\"#4ec7df39-b353-4784-81a5-d51c05a97b7f\").text(\"BokehJS successfully loaded.\");\n",
       "    } else if (Date.now() < window._bokeh_timeout) {\n",
       "      setTimeout(display_loaded, 100)\n",
       "    }\n",
       "  }\n",
       "\n",
       "  function run_callbacks() {\n",
       "    window._bokeh_onload_callbacks.forEach(function(callback) { callback() });\n",
       "    delete window._bokeh_onload_callbacks\n",
       "    console.info(\"Bokeh: all callbacks have finished\");\n",
       "  }\n",
       "\n",
       "  function load_libs(js_urls, callback) {\n",
       "    window._bokeh_onload_callbacks.push(callback);\n",
       "    if (window._bokeh_is_loading > 0) {\n",
       "      console.log(\"Bokeh: BokehJS is being loaded, scheduling callback at\", now());\n",
       "      return null;\n",
       "    }\n",
       "    if (js_urls == null || js_urls.length === 0) {\n",
       "      run_callbacks();\n",
       "      return null;\n",
       "    }\n",
       "    console.log(\"Bokeh: BokehJS not loaded, scheduling load and callback at\", now());\n",
       "    window._bokeh_is_loading = js_urls.length;\n",
       "    for (var i = 0; i < js_urls.length; i++) {\n",
       "      var url = js_urls[i];\n",
       "      var s = document.createElement('script');\n",
       "      s.src = url;\n",
       "      s.async = false;\n",
       "      s.onreadystatechange = s.onload = function() {\n",
       "        window._bokeh_is_loading--;\n",
       "        if (window._bokeh_is_loading === 0) {\n",
       "          console.log(\"Bokeh: all BokehJS libraries loaded\");\n",
       "          run_callbacks()\n",
       "        }\n",
       "      };\n",
       "      s.onerror = function() {\n",
       "        console.warn(\"failed to load library \" + url);\n",
       "      };\n",
       "      console.log(\"Bokeh: injecting script tag for BokehJS library: \", url);\n",
       "      document.getElementsByTagName(\"head\")[0].appendChild(s);\n",
       "    }\n",
       "  };var element = document.getElementById(\"4ec7df39-b353-4784-81a5-d51c05a97b7f\");\n",
       "  if (element == null) {\n",
       "    console.log(\"Bokeh: ERROR: autoload.js configured with elementid '4ec7df39-b353-4784-81a5-d51c05a97b7f' but no matching script tag was found. \")\n",
       "    return false;\n",
       "  }\n",
       "\n",
       "  var js_urls = ['https://cdn.pydata.org/bokeh/release/bokeh-0.12.2.min.js', 'https://cdn.pydata.org/bokeh/release/bokeh-widgets-0.12.2.min.js', 'https://cdn.pydata.org/bokeh/release/bokeh-compiler-0.12.2.min.js'];\n",
       "\n",
       "  var inline_js = [\n",
       "    function(Bokeh) {\n",
       "      Bokeh.set_log_level(\"info\");\n",
       "    },\n",
       "    \n",
       "    function(Bokeh) {\n",
       "      \n",
       "      Bokeh.$(\"#4ec7df39-b353-4784-81a5-d51c05a97b7f\").text(\"BokehJS is loading...\");\n",
       "    },\n",
       "    function(Bokeh) {\n",
       "      console.log(\"Bokeh: injecting CSS: https://cdn.pydata.org/bokeh/release/bokeh-0.12.2.min.css\");\n",
       "      Bokeh.embed.inject_css(\"https://cdn.pydata.org/bokeh/release/bokeh-0.12.2.min.css\");\n",
       "      console.log(\"Bokeh: injecting CSS: https://cdn.pydata.org/bokeh/release/bokeh-widgets-0.12.2.min.css\");\n",
       "      Bokeh.embed.inject_css(\"https://cdn.pydata.org/bokeh/release/bokeh-widgets-0.12.2.min.css\");\n",
       "    }\n",
       "  ];\n",
       "\n",
       "  function run_inline_js() {\n",
       "    \n",
       "    if ((window.Bokeh !== undefined) || (force === \"1\")) {\n",
       "      for (var i = 0; i < inline_js.length; i++) {\n",
       "        inline_js[i](window.Bokeh);\n",
       "      }if (force === \"1\") {\n",
       "        display_loaded();\n",
       "      }} else if (Date.now() < window._bokeh_timeout) {\n",
       "      setTimeout(run_inline_js, 100);\n",
       "    } else if (!window._bokeh_failed_load) {\n",
       "      console.log(\"Bokeh: BokehJS failed to load within specified timeout.\");\n",
       "      window._bokeh_failed_load = true;\n",
       "    } else if (!force) {\n",
       "      var cell = $(\"#4ec7df39-b353-4784-81a5-d51c05a97b7f\").parents('.cell').data().cell;\n",
       "      cell.output_area.append_execute_result(NB_LOAD_WARNING)\n",
       "    }\n",
       "\n",
       "  }\n",
       "\n",
       "  if (window._bokeh_is_loading === 0) {\n",
       "    console.log(\"Bokeh: BokehJS loaded, going straight to plotting\");\n",
       "    run_inline_js();\n",
       "  } else {\n",
       "    load_libs(js_urls, function() {\n",
       "      console.log(\"Bokeh: BokehJS plotting callback run at\", now());\n",
       "      run_inline_js();\n",
       "    });\n",
       "  }\n",
       "}(this));"
      ]
     },
     "metadata": {},
     "output_type": "display_data"
    }
   ],
   "source": [
    "output_notebook()"
   ]
  },
  {
   "cell_type": "code",
   "execution_count": 3,
   "metadata": {
    "ExecuteTime": {
     "end_time": "2017-01-06T13:38:59.622945",
     "start_time": "2017-01-06T13:38:58.940338"
    },
    "collapsed": false
   },
   "outputs": [],
   "source": [
    "data = requests.get(\"https://data.lacity.org/resource/v87k-wgde.json\").json()"
   ]
  },
  {
   "cell_type": "code",
   "execution_count": 4,
   "metadata": {
    "ExecuteTime": {
     "end_time": "2017-01-06T13:38:59.637048",
     "start_time": "2017-01-06T13:38:59.629354"
    },
    "collapsed": false
   },
   "outputs": [],
   "source": [
    "values = [float(item[\"fy_12_13\"]) for item in data]\n",
    "locations = np.array([item[\"location_1\"][\"coordinates\"] for item in data])\n",
    "zipcodes = [item[\"location_1_zip\"] for item in data]"
   ]
  },
  {
   "cell_type": "code",
   "execution_count": 5,
   "metadata": {
    "ExecuteTime": {
     "end_time": "2017-01-06T13:38:59.666577",
     "start_time": "2017-01-06T13:38:59.639973"
    },
    "collapsed": true
   },
   "outputs": [],
   "source": [
    "from pyproj import Proj, transform\n",
    "\n",
    "from_proj = Proj(init=\"epsg:4326\")\n",
    "to_proj = Proj(init=\"epsg:3857\")\n",
    "\n",
    "def convert(longitudes, latitudes):\n",
    "    x_vals = []\n",
    "    y_vals = []\n",
    "    for lon, lat in zip(longitudes, latitudes):\n",
    "        x, y = transform(from_proj, to_proj, lon, lat)\n",
    "        x_vals.append(x)\n",
    "        y_vals.append(y)\n",
    "    return x_vals, y_vals"
   ]
  },
  {
   "cell_type": "code",
   "execution_count": 6,
   "metadata": {
    "ExecuteTime": {
     "end_time": "2017-01-06T13:38:59.692747",
     "start_time": "2017-01-06T13:38:59.669029"
    },
    "collapsed": false
   },
   "outputs": [],
   "source": [
    "x,y = convert(locations[:,0], locations[:,1])"
   ]
  },
  {
   "cell_type": "code",
   "execution_count": 7,
   "metadata": {
    "ExecuteTime": {
     "end_time": "2017-01-06T13:38:59.722774",
     "start_time": "2017-01-06T13:38:59.694882"
    },
    "collapsed": false
   },
   "outputs": [],
   "source": [
    "fig = figure(title=\"Los Angeles Water Usage 2012-2013\", plot_width=600, plot_height=600, tools=[\"wheel_zoom\", \"pan\", \"hover\"],\n",
    "            x_range=(-13209490, -13155375), y_range=(3992960, 4069860), \n",
    "             webgl=True, active_scroll=\"wheel_zoom\")\n",
    "fig.axis.visible = False\n",
    "\n",
    "STAMEN_TONER_BACKGROUND = WMTSTileSource(\n",
    "    url='http://tile.stamen.com/toner-background/{Z}/{X}/{Y}.png',\n",
    "    attribution=(\n",
    "        'Map tiles by <a href=\"http://stamen.com\">Stamen Design</a>, '\n",
    "        'under <a href=\"http://creativecommons.org/licenses/by/3.0\">CC BY 3.0</a>.'\n",
    "        'Data by <a href=\"http://openstreetmap.org\">OpenStreetMap</a>, '\n",
    "        'under <a href=\"http://www.openstreetmap.org/copyright\">ODbL</a>'\n",
    "    )\n",
    ")\n",
    "\n",
    "background = fig.add_tile(STAMEN_TONER_BACKGROUND)"
   ]
  },
  {
   "cell_type": "code",
   "execution_count": 8,
   "metadata": {
    "ExecuteTime": {
     "end_time": "2017-01-06T13:38:59.749584",
     "start_time": "2017-01-06T13:38:59.725883"
    },
    "collapsed": false
   },
   "outputs": [],
   "source": [
    "color_mapper = LogColorMapper(palette=\"RdYlGn10\", low=4, high=75)\n",
    "\n",
    "source = ColumnDataSource(data=dict(x=x, y=y, size=6*np.log(values), values=values, zipcodes=zipcodes))\n",
    "\n",
    "fig.circle('x', 'y', size='size', source=source, line_alpha=0.0, alpha=.7, fill_color={'field':'values', 'transform': color_mapper})\n",
    "fig.select_one(HoverTool).tooltips = [\n",
    "    ('Usage', '@values'),\n",
    "    ('Zip Code', '@zipcodes')\n",
    "]"
   ]
  },
  {
   "cell_type": "code",
   "execution_count": 9,
   "metadata": {
    "ExecuteTime": {
     "end_time": "2017-01-06T13:38:59.790045",
     "start_time": "2017-01-06T13:38:59.752151"
    },
    "collapsed": false
   },
   "outputs": [
    {
     "data": {
      "text/html": [
       "\n",
       "\n",
       "    <div class=\"bk-root\">\n",
       "        <div class=\"plotdiv\" id=\"ec5de323-dd10-4cd0-ab80-ea81f0b4f3d1\"></div>\n",
       "    </div>\n",
       "<script type=\"text/javascript\">\n",
       "  \n",
       "  (function(global) {\n",
       "    function now() {\n",
       "      return new Date();\n",
       "    }\n",
       "  \n",
       "    var force = \"\";\n",
       "  \n",
       "    if (typeof (window._bokeh_onload_callbacks) === \"undefined\" || force !== \"\") {\n",
       "      window._bokeh_onload_callbacks = [];\n",
       "      window._bokeh_is_loading = undefined;\n",
       "    }\n",
       "  \n",
       "  \n",
       "    \n",
       "    if (typeof (window._bokeh_timeout) === \"undefined\" || force !== \"\") {\n",
       "      window._bokeh_timeout = Date.now() + 0;\n",
       "      window._bokeh_failed_load = false;\n",
       "    }\n",
       "  \n",
       "    var NB_LOAD_WARNING = {'data': {'text/html':\n",
       "       \"<div style='background-color: #fdd'>\\n\"+\n",
       "       \"<p>\\n\"+\n",
       "       \"BokehJS does not appear to have successfully loaded. If loading BokehJS from CDN, this \\n\"+\n",
       "       \"may be due to a slow or bad network connection. Possible fixes:\\n\"+\n",
       "       \"</p>\\n\"+\n",
       "       \"<ul>\\n\"+\n",
       "       \"<li>re-rerun `output_notebook()` to attempt to load from CDN again, or</li>\\n\"+\n",
       "       \"<li>use INLINE resources instead, as so:</li>\\n\"+\n",
       "       \"</ul>\\n\"+\n",
       "       \"<code>\\n\"+\n",
       "       \"from bokeh.resources import INLINE\\n\"+\n",
       "       \"output_notebook(resources=INLINE)\\n\"+\n",
       "       \"</code>\\n\"+\n",
       "       \"</div>\"}};\n",
       "  \n",
       "    function display_loaded() {\n",
       "      if (window.Bokeh !== undefined) {\n",
       "        Bokeh.$(\"#ec5de323-dd10-4cd0-ab80-ea81f0b4f3d1\").text(\"BokehJS successfully loaded.\");\n",
       "      } else if (Date.now() < window._bokeh_timeout) {\n",
       "        setTimeout(display_loaded, 100)\n",
       "      }\n",
       "    }\n",
       "  \n",
       "    function run_callbacks() {\n",
       "      window._bokeh_onload_callbacks.forEach(function(callback) { callback() });\n",
       "      delete window._bokeh_onload_callbacks\n",
       "      console.info(\"Bokeh: all callbacks have finished\");\n",
       "    }\n",
       "  \n",
       "    function load_libs(js_urls, callback) {\n",
       "      window._bokeh_onload_callbacks.push(callback);\n",
       "      if (window._bokeh_is_loading > 0) {\n",
       "        console.log(\"Bokeh: BokehJS is being loaded, scheduling callback at\", now());\n",
       "        return null;\n",
       "      }\n",
       "      if (js_urls == null || js_urls.length === 0) {\n",
       "        run_callbacks();\n",
       "        return null;\n",
       "      }\n",
       "      console.log(\"Bokeh: BokehJS not loaded, scheduling load and callback at\", now());\n",
       "      window._bokeh_is_loading = js_urls.length;\n",
       "      for (var i = 0; i < js_urls.length; i++) {\n",
       "        var url = js_urls[i];\n",
       "        var s = document.createElement('script');\n",
       "        s.src = url;\n",
       "        s.async = false;\n",
       "        s.onreadystatechange = s.onload = function() {\n",
       "          window._bokeh_is_loading--;\n",
       "          if (window._bokeh_is_loading === 0) {\n",
       "            console.log(\"Bokeh: all BokehJS libraries loaded\");\n",
       "            run_callbacks()\n",
       "          }\n",
       "        };\n",
       "        s.onerror = function() {\n",
       "          console.warn(\"failed to load library \" + url);\n",
       "        };\n",
       "        console.log(\"Bokeh: injecting script tag for BokehJS library: \", url);\n",
       "        document.getElementsByTagName(\"head\")[0].appendChild(s);\n",
       "      }\n",
       "    };var element = document.getElementById(\"ec5de323-dd10-4cd0-ab80-ea81f0b4f3d1\");\n",
       "    if (element == null) {\n",
       "      console.log(\"Bokeh: ERROR: autoload.js configured with elementid 'ec5de323-dd10-4cd0-ab80-ea81f0b4f3d1' but no matching script tag was found. \")\n",
       "      return false;\n",
       "    }\n",
       "  \n",
       "    var js_urls = [];\n",
       "  \n",
       "    var inline_js = [\n",
       "      function(Bokeh) {\n",
       "        Bokeh.$(function() {\n",
       "            var docs_json = {\"066fcf34-4b82-47d3-be38-3e18c79a7835\":{\"roots\":{\"references\":[{\"attributes\":{\"plot\":{\"id\":\"3e5b98b4-a967-440f-b73c-864c1150ff49\",\"subtype\":\"Figure\",\"type\":\"Plot\"},\"ticker\":{\"id\":\"78ac07c3-de04-4970-9be0-7f6e8523c1db\",\"type\":\"BasicTicker\"}},\"id\":\"1125e99b-f55a-4a87-bee9-d12275ab42fe\",\"type\":\"Grid\"},{\"attributes\":{\"plot\":{\"id\":\"3e5b98b4-a967-440f-b73c-864c1150ff49\",\"subtype\":\"Figure\",\"type\":\"Plot\"}},\"id\":\"25690354-ed34-4966-8363-6bc51948a5df\",\"type\":\"PanTool\"},{\"attributes\":{\"plot\":null,\"text\":\"Los Angeles Water Usage 2012-2013\"},\"id\":\"acdac425-e449-46d5-a6ff-d0941e022a9a\",\"type\":\"Title\"},{\"attributes\":{\"callback\":null,\"end\":-13155375,\"start\":-13209490},\"id\":\"922aee3c-199f-4a28-8811-b0c88c10c328\",\"type\":\"Range1d\"},{\"attributes\":{\"callback\":null,\"end\":4069860,\"start\":3992960},\"id\":\"0ec7f1c7-2402-4ef4-a18e-13d67fbde80f\",\"type\":\"Range1d\"},{\"attributes\":{\"active_drag\":\"auto\",\"active_scroll\":{\"id\":\"76fcdeb0-bc7d-40c8-9f78-caa8316bd789\",\"type\":\"WheelZoomTool\"},\"active_tap\":\"auto\",\"tools\":[{\"id\":\"76fcdeb0-bc7d-40c8-9f78-caa8316bd789\",\"type\":\"WheelZoomTool\"},{\"id\":\"25690354-ed34-4966-8363-6bc51948a5df\",\"type\":\"PanTool\"},{\"id\":\"c8e6bde5-565b-4bca-86ba-ed3ce5a43066\",\"type\":\"HoverTool\"}]},\"id\":\"589f6da5-dbd6-4bc8-9e3d-ad8306a14276\",\"type\":\"Toolbar\"},{\"attributes\":{\"formatter\":{\"id\":\"9c97679a-b66a-402b-a541-6ddeb3d0a39d\",\"type\":\"BasicTickFormatter\"},\"plot\":{\"id\":\"3e5b98b4-a967-440f-b73c-864c1150ff49\",\"subtype\":\"Figure\",\"type\":\"Plot\"},\"ticker\":{\"id\":\"78ac07c3-de04-4970-9be0-7f6e8523c1db\",\"type\":\"BasicTicker\"},\"visible\":false},\"id\":\"cb71369a-20d9-44cb-a728-70541cabf826\",\"type\":\"LinearAxis\"},{\"attributes\":{\"callback\":null,\"plot\":{\"id\":\"3e5b98b4-a967-440f-b73c-864c1150ff49\",\"subtype\":\"Figure\",\"type\":\"Plot\"},\"tooltips\":[[\"Usage\",\"@values\"],[\"Zip Code\",\"@zipcodes\"]]},\"id\":\"c8e6bde5-565b-4bca-86ba-ed3ce5a43066\",\"type\":\"HoverTool\"},{\"attributes\":{\"tile_source\":{\"id\":\"e4925382-1851-4e96-8922-be8dcf0e573b\",\"type\":\"WMTSTileSource\"}},\"id\":\"97b49c44-0f3b-4975-bb89-2d222f8833c5\",\"type\":\"TileRenderer\"},{\"attributes\":{\"fill_alpha\":{\"value\":0.1},\"fill_color\":{\"value\":\"#1f77b4\"},\"line_alpha\":{\"value\":0.1},\"line_color\":{\"value\":\"#1f77b4\"},\"size\":{\"field\":\"size\",\"units\":\"screen\"},\"x\":{\"field\":\"x\"},\"y\":{\"field\":\"y\"}},\"id\":\"151bfb64-ecae-42f0-9220-4824394ceeb9\",\"type\":\"Circle\"},{\"attributes\":{},\"id\":\"d27be675-587e-4b6b-89b1-cac73fcb7dd3\",\"type\":\"BasicTickFormatter\"},{\"attributes\":{\"callback\":null,\"column_names\":[\"y\",\"x\",\"values\",\"zipcodes\",\"size\"],\"data\":{\"size\":[16.635532333438686,14.909439898728003,21.50111363073666,19.068322982087675,19.548579228128894,17.342230547376985,21.665507475865347,13.815510557964275,12.476649250079014,13.815510557964275,17.974393641323946,22.839974938621918,14.387371636790224,18.546254720149896,16.635532333438686,13.815510557964275,15.389696144769221,15.83434397769155,13.815510557964275,17.974393641323946,13.183347464017316,13.183347464017316,16.635532333438686,14.909439898728003,14.387371636790224,17.342230547376985,13.183347464017316,18.546254720149896,14.387371636790224,13.815510557964275,10.75055681536833,13.815510557964275,16.9992800643373,13.183347464017316,14.387371636790224,15.389696144769221,17.974393641323946,17.342230547376985,14.387371636790224,16.24830120661326,17.974393641323946,14.909439898728003,14.909439898728003,16.24830120661326,13.815510557964275,14.387371636790224,19.068322982087675,16.24830120661326,11.675460894331879,13.815510557964275,15.389696144769221,13.183347464017316,18.26713462634054,13.815510557964275,17.342230547376985,20.79441541679836,15.83434397769155,16.9992800643373,15.83434397769155,14.909439898728003,14.387371636790224,13.183347464017316,15.83434397769155,19.068322982087675,15.83434397769155,13.183347464017316,13.183347464017316,13.183347464017316,15.83434397769155,13.183347464017316,19.313254949209202,25.490971452296158,14.909439898728003,14.387371636790224,14.909439898728003,15.83434397769155,13.815510557964275,15.83434397769155,13.183347464017316,13.815510557964275,13.815510557964275,13.815510557964275,14.387371636790224,18.812965295574898,13.815510557964275,14.387371636790224,18.26713462634054,15.83434397769155,14.909439898728003,9.656627474604601,14.387371636790224,18.26713462634054,14.387371636790224,15.83434397769155,21.50111363073666,16.9992800643373,14.909439898728003,20.979045368798882,13.815510557964275,16.24830120661326,13.815510557964275,14.387371636790224,14.909439898728003,19.993227061051222,13.183347464017316,19.313254949209202,13.183347464017316,17.66663387499864,13.815510557964275,15.83434397769155,18.26713462634054,17.974393641323946,20.407184289972932,13.183347464017316,13.815510557964275,14.387371636790224,15.83434397769155,16.24830120661326,16.635532333438686],\"values\":[16.0,12.0,36.0,24.0,26.0,18.0,37.0,10.0,8.0,10.0,20.0,45.0,11.0,22.0,16.0,10.0,13.0,14.0,10.0,20.0,9.0,9.0,16.0,12.0,11.0,18.0,9.0,22.0,11.0,10.0,6.0,10.0,17.0,9.0,11.0,13.0,20.0,18.0,11.0,15.0,20.0,12.0,12.0,15.0,10.0,11.0,24.0,15.0,7.0,10.0,13.0,9.0,21.0,10.0,18.0,32.0,14.0,17.0,14.0,12.0,11.0,9.0,14.0,24.0,14.0,9.0,9.0,9.0,14.0,9.0,25.0,70.0,12.0,11.0,12.0,14.0,10.0,14.0,9.0,10.0,10.0,10.0,11.0,23.0,10.0,11.0,21.0,14.0,12.0,5.0,11.0,21.0,11.0,14.0,36.0,17.0,12.0,33.0,10.0,15.0,10.0,11.0,12.0,28.0,9.0,25.0,9.0,19.0,10.0,14.0,21.0,20.0,30.0,9.0,10.0,11.0,14.0,15.0,16.0],\"x\":[-13184148.188693384,-13202222.968547445,-13209485.480847226,-13195336.762435453,-13193173.72832666,-13163190.169573788,-13169279.265013551,-13167134.12740533,-13162644.574381698,-13170081.696423486,-13191486.155681733,-13180702.909007384,-13164535.777982518,-13196479.223460155,-13171822.958124861,-13168199.199120037,-13184587.857267417,-13195848.016121237,-13172236.991489958,-13183896.673101922,-13157009.658011593,-13187616.68517238,-13184104.657095188,-13171028.265645927,-13167659.408014875,-13180153.927921658,-13172758.886317177,-13202321.156345824,-13158726.251759086,-13165198.424839947,-13179777.621845186,-13173725.286438998,-13172592.98264991,-13170106.364266045,-13185822.218320383,-13174049.354619892,-13192010.46881358,-13169431.625440247,-13163193.555467423,-13182434.013250507,-13186869.877440332,-13176843.595956286,-13167677.30418149,-13199813.25590171,-13155379.643665975,-13163351.236297864,-13193703.845768074,-13187102.529387474,-13188318.026796129,-13171860.685524808,-13177169.59886994,-13183047.324422805,-13176785.553973788,-13164782.940425288,-13206722.678918025,-13189949.975874493,-13184396.318502523,-13188606.302309833,-13177340.822940955,-13179498.53631204,-13165019.945521116,-13170175.531073177,-13183809.610016856,-13203557.935926048,-13189900.156394858,-13161043.581027333,-13165239.537910879,-13176516.141993076,-13172490.925386032,-13179672.178798992,-13177977.834478121,-13180256.468757408,-13173115.361271648,-13168281.908945099,-13172347.271256702,-13185674.211042367,-13159246.211964883,-13178432.980914157,-13166550.804701975,-13168238.377458222,-13168529.071499186,-13163415.082589932,-13168954.229466274,-13201938.07881605,-13166194.329636196,-13166176.917041447,-13196941.141572133,-13185648.57583343,-13167434.494998727,-13163095.367557721,-13164940.13768386,-13162614.586024068,-13183460.390310206,-13202391.29063065,-13185906.86298951,-13168246.116389222,-13180527.815470869,-13195866.879765546,-13170973.609334424,-13177613.620481342,-13158181.62393337,-13168928.594257338,-13170588.113388712,-13184706.84344286,-13185917.020336447,-13169431.625440247,-13159422.756550957,-13175582.148644824,-13160315.636828274,-13178758.983827803,-13179590.919912174,-13203569.060639359,-13188271.59309881,-13156398.28168336,-13175005.59750609,-13170677.594889713,-13180443.654484928,-13186676.40394269,-13174748.27771638],\"y\":[4069849.2441437435,4058202.407774749,4048056.5126121347,4035364.8295530076,4051212.210709908,4059534.9752223063,4037716.4740172853,4012089.396364518,4036791.638274924,4029322.1385606574,4065761.1581474915,4040292.8644938194,4029863.013868009,4060471.024767007,4063727.3246206166,4022608.5505730114,4023089.044663923,4055713.184211216,4042334.770374769,4049373.2772640823,4044028.8493254264,4027805.8406611583,4053152.5907964846,4001148.0370363644,4029270.794594493,4051133.877628499,4027020.6421168926,4050577.3768858607,4046995.2632456073,4034190.9404691216,4031447.8620997523,4030275.5433728956,4044288.2408483606,4023012.6541884593,4034870.392057771,4051338.48036702,4033172.422698518,4038974.2310105176,4021949.653690088,4063398.433909272,4049444.5843674554,4026990.8918729224,4063040.2932177773,4056819.6982764704,4039752.6617887532,4019005.4896499454,4060519.584389798,4064053.298682031,4030162.3442709236,4040756.5833632033,4051265.991944289,4025168.1141654234,4049141.824235279,4043797.5049571428,4055394.467203721,4049477.900269254,4067295.407855768,4060469.854658178,4038630.2901935163,4023636.6226937287,4035827.180042827,4037048.5296253436,4033558.2229623315,4052814.6521618986,4055663.47541425,4043422.4569121217,4039128.9786580065,3997036.809590687,4055453.531549507,4028138.9538479764,4040812.651327448,4037377.825990599,4035362.49449987,4035531.787361986,4023175.932296037,4059155.312052383,4035324.549953393,4036083.465839749,4037145.4492136003,3992969.5112493057,4040878.648482087,4025213.6070976453,4001281.9022925263,4062800.3689202406,4023882.137358638,4018471.540388103,4065778.7179904995,4055752.3664867952,4032606.8780772346,4035150.006398768,3999797.832346015,4032847.3331744173,4029091.092868845,4055429.554951458,4042787.4737286624,4042972.064901373,4032601.625479834,4051638.376059508,4032934.8788021654,4059123.137837382,4032049.5319574615,4014295.238770891,3993871.615038351,4037044.442678551,4026335.824975953,4036736.7577783135,4039215.9884854443,4041854.6326137944,4029049.6685529253,4053903.342162844,4048216.059131445,4058639.9499329566,4037092.9024193585,4034830.114206309,4032680.9983208985,4005876.1705327425,4056424.3351372033,4052907.613442877,4038056.299918721],\"zipcodes\":[\"91342\",\"91309\",\"91302\",\"90272\",\"91316\",\"91214\",\"90020\",\"90248\",\"90012\",\"90062\",\"91344\",\"90210\",\"90011\",\"91324\",\"91040\",\"90044\",\"90293\",\"91335\",\"90028\",\"91423\",\"90042\",\"90291\",\"91401\",\"90717\",\"90037\",\"91607\",\"90043\",\"91364\",\"90041\",\"90015\",\"90232\",\"90008\",\"90068\",\"90047\",\"90025\",\"91505\",\"90402\",\"90004\",\"90002\",\"91331\",\"91403\",\"90056\",\"91042\",\"91306\",\"90032\",\"90059\",\"91325\",\"91345\",\"90405\",\"90038\",\"91601\",\"90094\",\"91602\",\"90039\",\"91307\",\"91436\",\"91340\",\"91343\",\"90048\",\"90045\",\"90017\",\"90010\",\"90064\",\"91367\",\"91406\",\"90065\",\"90026\",\"90275\",\"91504\",\"90230\",\"90069\",\"90212\",\"90019\",\"90006\",\"90305\",\"91402\",\"90033\",\"90035\",\"90057\",\"90731\",\"90029\",\"90001\",\"90710\",\"91311\",\"90003\",\"90061\",\"91326\",\"91405\",\"90007\",\"90013\",\"90744\",\"90021\",\"90066\",\"91303\",\"90077\",\"90027\",\"90034\",\"91356\",\"90018\",\"91352\",\"90023\",\"90247\",\"90732\",\"90024\",\"90292\",\"90005\",\"90031\",\"90046\",\"90058\",\"91606\",\"91604\",\"91304\",\"90049\",\"90063\",\"90016\",\"90501\",\"91605\",\"91411\",\"90036\"]}},\"id\":\"214862d5-6465-4659-9e64-13f0b2e90607\",\"type\":\"ColumnDataSource\"},{\"attributes\":{},\"id\":\"c29f2152-1d45-4bcd-a525-c320add0c967\",\"type\":\"ToolEvents\"},{\"attributes\":{\"data_source\":{\"id\":\"214862d5-6465-4659-9e64-13f0b2e90607\",\"type\":\"ColumnDataSource\"},\"glyph\":{\"id\":\"cf17ce77-65bc-48c8-87d6-0b0ec92a5201\",\"type\":\"Circle\"},\"hover_glyph\":null,\"nonselection_glyph\":{\"id\":\"151bfb64-ecae-42f0-9220-4824394ceeb9\",\"type\":\"Circle\"},\"selection_glyph\":null},\"id\":\"ada41b61-323b-4510-930a-75de976378e0\",\"type\":\"GlyphRenderer\"},{\"attributes\":{\"fill_alpha\":{\"value\":0.7},\"fill_color\":{\"field\":\"values\",\"transform\":{\"id\":\"471ffd93-1597-4efb-91aa-798ee389a122\",\"type\":\"LogColorMapper\"}},\"line_alpha\":{\"value\":0.0},\"line_color\":{\"value\":\"#1f77b4\"},\"size\":{\"field\":\"size\",\"units\":\"screen\"},\"x\":{\"field\":\"x\"},\"y\":{\"field\":\"y\"}},\"id\":\"cf17ce77-65bc-48c8-87d6-0b0ec92a5201\",\"type\":\"Circle\"},{\"attributes\":{},\"id\":\"78ac07c3-de04-4970-9be0-7f6e8523c1db\",\"type\":\"BasicTicker\"},{\"attributes\":{\"formatter\":{\"id\":\"d27be675-587e-4b6b-89b1-cac73fcb7dd3\",\"type\":\"BasicTickFormatter\"},\"plot\":{\"id\":\"3e5b98b4-a967-440f-b73c-864c1150ff49\",\"subtype\":\"Figure\",\"type\":\"Plot\"},\"ticker\":{\"id\":\"f4b9a5da-67c7-4ce3-95a0-f240234c0d83\",\"type\":\"BasicTicker\"},\"visible\":false},\"id\":\"d000532e-3d18-4afc-8e41-b68ddab95158\",\"type\":\"LinearAxis\"},{\"attributes\":{\"high\":75,\"low\":4,\"palette\":[\"#006837\",\"#1a9850\",\"#66bd63\",\"#a6d96a\",\"#d9ef8b\",\"#fee08b\",\"#fdae61\",\"#f46d43\",\"#d73027\",\"#a50026\"]},\"id\":\"471ffd93-1597-4efb-91aa-798ee389a122\",\"type\":\"LogColorMapper\"},{\"attributes\":{\"dimension\":1,\"plot\":{\"id\":\"3e5b98b4-a967-440f-b73c-864c1150ff49\",\"subtype\":\"Figure\",\"type\":\"Plot\"},\"ticker\":{\"id\":\"f4b9a5da-67c7-4ce3-95a0-f240234c0d83\",\"type\":\"BasicTicker\"}},\"id\":\"bbef320f-94eb-4918-a7b6-6c251aa5c978\",\"type\":\"Grid\"},{\"attributes\":{\"attribution\":\"Map tiles by <a href=\\\"http://stamen.com\\\">Stamen Design</a>, under <a href=\\\"http://creativecommons.org/licenses/by/3.0\\\">CC BY 3.0</a>.Data by <a href=\\\"http://openstreetmap.org\\\">OpenStreetMap</a>, under <a href=\\\"http://www.openstreetmap.org/copyright\\\">ODbL</a>\",\"url\":\"http://tile.stamen.com/toner-background/{Z}/{X}/{Y}.png\"},\"id\":\"e4925382-1851-4e96-8922-be8dcf0e573b\",\"type\":\"WMTSTileSource\"},{\"attributes\":{\"below\":[{\"id\":\"cb71369a-20d9-44cb-a728-70541cabf826\",\"type\":\"LinearAxis\"}],\"left\":[{\"id\":\"d000532e-3d18-4afc-8e41-b68ddab95158\",\"type\":\"LinearAxis\"}],\"renderers\":[{\"id\":\"cb71369a-20d9-44cb-a728-70541cabf826\",\"type\":\"LinearAxis\"},{\"id\":\"1125e99b-f55a-4a87-bee9-d12275ab42fe\",\"type\":\"Grid\"},{\"id\":\"d000532e-3d18-4afc-8e41-b68ddab95158\",\"type\":\"LinearAxis\"},{\"id\":\"bbef320f-94eb-4918-a7b6-6c251aa5c978\",\"type\":\"Grid\"},{\"id\":\"97b49c44-0f3b-4975-bb89-2d222f8833c5\",\"type\":\"TileRenderer\"},{\"id\":\"ada41b61-323b-4510-930a-75de976378e0\",\"type\":\"GlyphRenderer\"}],\"title\":{\"id\":\"acdac425-e449-46d5-a6ff-d0941e022a9a\",\"type\":\"Title\"},\"tool_events\":{\"id\":\"c29f2152-1d45-4bcd-a525-c320add0c967\",\"type\":\"ToolEvents\"},\"toolbar\":{\"id\":\"589f6da5-dbd6-4bc8-9e3d-ad8306a14276\",\"type\":\"Toolbar\"},\"webgl\":true,\"x_range\":{\"id\":\"922aee3c-199f-4a28-8811-b0c88c10c328\",\"type\":\"Range1d\"},\"y_range\":{\"id\":\"0ec7f1c7-2402-4ef4-a18e-13d67fbde80f\",\"type\":\"Range1d\"}},\"id\":\"3e5b98b4-a967-440f-b73c-864c1150ff49\",\"subtype\":\"Figure\",\"type\":\"Plot\"},{\"attributes\":{\"plot\":{\"id\":\"3e5b98b4-a967-440f-b73c-864c1150ff49\",\"subtype\":\"Figure\",\"type\":\"Plot\"}},\"id\":\"76fcdeb0-bc7d-40c8-9f78-caa8316bd789\",\"type\":\"WheelZoomTool\"},{\"attributes\":{},\"id\":\"f4b9a5da-67c7-4ce3-95a0-f240234c0d83\",\"type\":\"BasicTicker\"},{\"attributes\":{},\"id\":\"9c97679a-b66a-402b-a541-6ddeb3d0a39d\",\"type\":\"BasicTickFormatter\"}],\"root_ids\":[\"3e5b98b4-a967-440f-b73c-864c1150ff49\"]},\"title\":\"Bokeh Application\",\"version\":\"0.12.2\"}};\n",
       "            var render_items = [{\"docid\":\"066fcf34-4b82-47d3-be38-3e18c79a7835\",\"elementid\":\"ec5de323-dd10-4cd0-ab80-ea81f0b4f3d1\",\"modelid\":\"3e5b98b4-a967-440f-b73c-864c1150ff49\"}];\n",
       "            \n",
       "            Bokeh.embed.embed_items(docs_json, render_items);\n",
       "        });\n",
       "      },\n",
       "      function(Bokeh) {\n",
       "      }\n",
       "    ];\n",
       "  \n",
       "    function run_inline_js() {\n",
       "      \n",
       "      if ((window.Bokeh !== undefined) || (force === \"1\")) {\n",
       "        for (var i = 0; i < inline_js.length; i++) {\n",
       "          inline_js[i](window.Bokeh);\n",
       "        }if (force === \"1\") {\n",
       "          display_loaded();\n",
       "        }} else if (Date.now() < window._bokeh_timeout) {\n",
       "        setTimeout(run_inline_js, 100);\n",
       "      } else if (!window._bokeh_failed_load) {\n",
       "        console.log(\"Bokeh: BokehJS failed to load within specified timeout.\");\n",
       "        window._bokeh_failed_load = true;\n",
       "      } else if (!force) {\n",
       "        var cell = $(\"#ec5de323-dd10-4cd0-ab80-ea81f0b4f3d1\").parents('.cell').data().cell;\n",
       "        cell.output_area.append_execute_result(NB_LOAD_WARNING)\n",
       "      }\n",
       "  \n",
       "    }\n",
       "  \n",
       "    if (window._bokeh_is_loading === 0) {\n",
       "      console.log(\"Bokeh: BokehJS loaded, going straight to plotting\");\n",
       "      run_inline_js();\n",
       "    } else {\n",
       "      load_libs(js_urls, function() {\n",
       "        console.log(\"Bokeh: BokehJS plotting callback run at\", now());\n",
       "        run_inline_js();\n",
       "      });\n",
       "    }\n",
       "  }(this));\n",
       "</script>"
      ]
     },
     "metadata": {},
     "output_type": "display_data"
    }
   ],
   "source": [
    "show(fig)"
   ]
  }
 ],
 "metadata": {
  "anaconda-cloud": {},
  "kernelspec": {
   "display_name": "Python [default]",
   "language": "python",
   "name": "python2"
  },
  "language_info": {
   "codemirror_mode": {
    "name": "ipython",
    "version": 2
   },
   "file_extension": ".py",
   "mimetype": "text/x-python",
   "name": "python",
   "nbconvert_exporter": "python",
   "pygments_lexer": "ipython2",
   "version": "2.7.12"
  },
  "latex_envs": {
   "bibliofile": "biblio.bib",
   "cite_by": "apalike",
   "current_citInitial": 1,
   "eqLabelWithNumbers": true,
   "eqNumInitial": 0
  }
 },
 "nbformat": 4,
 "nbformat_minor": 1
}
