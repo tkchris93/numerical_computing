{
 "cells": [
  {
   "cell_type": "code",
   "execution_count": null,
   "metadata": {
    "ExecuteTime": {
     "end_time": "2017-01-06T13:38:58.922555",
     "start_time": "2017-01-06T13:38:58.134879"
    },
    "collapsed": true
   },
   "outputs": [],
   "source": [
    "import numpy as np\n",
    "import json\n",
    "import requests\n",
    "from bokeh.plotting import figure\n",
    "from bokeh.io import output_notebook, show\n",
    "from bokeh.models import ColumnDataSource, HoverTool, WMTSTileSource, LogColorMapper"
   ]
  },
  {
   "cell_type": "code",
   "execution_count": null,
   "metadata": {
    "ExecuteTime": {
     "end_time": "2017-01-06T13:38:58.936838",
     "start_time": "2017-01-06T13:38:58.924456"
    },
    "collapsed": false
   },
   "outputs": [],
   "source": [
    "output_notebook()"
   ]
  },
  {
   "cell_type": "code",
   "execution_count": null,
   "metadata": {
    "ExecuteTime": {
     "end_time": "2017-01-06T13:38:59.622945",
     "start_time": "2017-01-06T13:38:58.940338"
    },
    "collapsed": false
   },
   "outputs": [],
   "source": [
    "data = requests.get(\"https://data.lacity.org/resource/v87k-wgde.json\").json()"
   ]
  },
  {
   "cell_type": "code",
   "execution_count": null,
   "metadata": {
    "ExecuteTime": {
     "end_time": "2017-01-06T13:38:59.637048",
     "start_time": "2017-01-06T13:38:59.629354"
    },
    "collapsed": false
   },
   "outputs": [],
   "source": [
    "values = [float(item[\"fy_12_13\"]) for item in data]\n",
    "locations = np.array([item[\"location_1\"][\"coordinates\"] for item in data])\n",
    "zipcodes = [item[\"location_1_zip\"] for item in data]"
   ]
  },
  {
   "cell_type": "code",
   "execution_count": null,
   "metadata": {
    "ExecuteTime": {
     "end_time": "2017-01-06T13:38:59.666577",
     "start_time": "2017-01-06T13:38:59.639973"
    },
    "collapsed": true
   },
   "outputs": [],
   "source": [
    "from pyproj import Proj, transform\n",
    "\n",
    "from_proj = Proj(init=\"epsg:4326\")\n",
    "to_proj = Proj(init=\"epsg:3857\")\n",
    "\n",
    "def convert(longitudes, latitudes):\n",
    "    x_vals = []\n",
    "    y_vals = []\n",
    "    for lon, lat in zip(longitudes, latitudes):\n",
    "        x, y = transform(from_proj, to_proj, lon, lat)\n",
    "        x_vals.append(x)\n",
    "        y_vals.append(y)\n",
    "    return x_vals, y_vals"
   ]
  },
  {
   "cell_type": "code",
   "execution_count": null,
   "metadata": {
    "ExecuteTime": {
     "end_time": "2017-01-06T13:38:59.692747",
     "start_time": "2017-01-06T13:38:59.669029"
    },
    "collapsed": false
   },
   "outputs": [],
   "source": [
    "x,y = convert(locations[:,0], locations[:,1])"
   ]
  },
  {
   "cell_type": "code",
   "execution_count": null,
   "metadata": {
    "ExecuteTime": {
     "end_time": "2017-01-06T13:38:59.722774",
     "start_time": "2017-01-06T13:38:59.694882"
    },
    "collapsed": false
   },
   "outputs": [],
   "source": [
    "fig = figure(title=\"Los Angeles Water Usage 2012-2013\", plot_width=600, plot_height=600, tools=[\"wheel_zoom\", \"pan\", \"hover\"],\n",
    "            x_range=(-13209490, -13155375), y_range=(3992960, 4069860), \n",
    "             webgl=True, active_scroll=\"wheel_zoom\")\n",
    "fig.axis.visible = False\n",
    "\n",
    "STAMEN_TONER_BACKGROUND = WMTSTileSource(\n",
    "    url='http://tile.stamen.com/toner-background/{Z}/{X}/{Y}.png',\n",
    "    attribution=(\n",
    "        'Map tiles by <a href=\"http://stamen.com\">Stamen Design</a>, '\n",
    "        'under <a href=\"http://creativecommons.org/licenses/by/3.0\">CC BY 3.0</a>.'\n",
    "        'Data by <a href=\"http://openstreetmap.org\">OpenStreetMap</a>, '\n",
    "        'under <a href=\"http://www.openstreetmap.org/copyright\">ODbL</a>'\n",
    "    )\n",
    ")\n",
    "\n",
    "background = fig.add_tile(STAMEN_TONER_BACKGROUND)"
   ]
  },
  {
   "cell_type": "code",
   "execution_count": null,
   "metadata": {
    "ExecuteTime": {
     "end_time": "2017-01-06T13:38:59.749584",
     "start_time": "2017-01-06T13:38:59.725883"
    },
    "collapsed": false
   },
   "outputs": [],
   "source": [
    "color_mapper = LogColorMapper(palette=\"RdYlGn10\", low=4, high=75)\n",
    "\n",
    "source = ColumnDataSource(data=dict(x=x, y=y, size=6*np.log(values), values=values, zipcodes=zipcodes))\n",
    "\n",
    "fig.circle('x', 'y', size='size', source=source, line_alpha=0.0, alpha=.7, fill_color={'field':'values', 'transform': color_mapper})\n",
    "fig.select_one(HoverTool).tooltips = [\n",
    "    ('Usage', '@values'),\n",
    "    ('Zip Code', '@zipcodes')\n",
    "]"
   ]
  },
  {
   "cell_type": "code",
   "execution_count": null,
   "metadata": {
    "ExecuteTime": {
     "end_time": "2017-01-06T13:38:59.790045",
     "start_time": "2017-01-06T13:38:59.752151"
    },
    "collapsed": false
   },
   "outputs": [],
   "source": [
    "show(fig)"
   ]
  }
 ],
 "metadata": {
  "anaconda-cloud": {},
  "kernelspec": {
   "display_name": "Python [default]",
   "language": "python",
   "name": "python2"
  },
  "language_info": {
   "codemirror_mode": {
    "name": "ipython",
    "version": 2
   },
   "file_extension": ".py",
   "mimetype": "text/x-python",
   "name": "python",
   "nbconvert_exporter": "python",
   "pygments_lexer": "ipython2",
   "version": "2.7.12"
  },
  "latex_envs": {
   "bibliofile": "biblio.bib",
   "cite_by": "apalike",
   "current_citInitial": 1,
   "eqLabelWithNumbers": true,
   "eqNumInitial": 0
  }
 },
 "nbformat": 4,
 "nbformat_minor": 1
}
