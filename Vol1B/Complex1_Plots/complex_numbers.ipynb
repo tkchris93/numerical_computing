{
 "cells": [
  {
   "cell_type": "markdown",
   "metadata": {},
   "source": [
    "<h1 align=\"center\">Complex 1: Plots</h1>\n",
    "<h3 align=\"center\">Please make sure all your graphs have titles</h3>"
   ]
  },
  {
   "cell_type": "code",
   "execution_count": null,
   "metadata": {
    "collapsed": true
   },
   "outputs": [],
   "source": []
  },
  {
   "cell_type": "markdown",
   "metadata": {},
   "source": [
    "## Problem 1"
   ]
  },
  {
   "cell_type": "code",
   "execution_count": 1,
   "metadata": {
    "collapsed": true
   },
   "outputs": [],
   "source": [
    "def plot_complex(f, xbounds, ybounds, res=401):\n",
    "\n",
    "    \"\"\"Plot the complex function f.\n",
    "    INPUTS:\n",
    "        f - A function handle. Should represent a function from C to C.\n",
    "        xbounds - A tuple (xmin, xmax) describing the bounds on the real part of the domain.\n",
    "        ybounds - A tuple (ymin, ymax) describing the bounds on the imaginary part of the domain.\n",
    "        res - A scalar that determines the resolution of the plot (number of points\n",
    "            per side). Defaults to 401.\n",
    "    \n",
    "    OUTPUTS:\n",
    "        graph of the function f(z)\n",
    "    \"\"\"\n",
    "    raise NotImplementedError(\"Problem 1 Incomplete\")"
   ]
  },
  {
   "cell_type": "markdown",
   "metadata": {},
   "source": [
    "Plot the function $f(z) = z$ on the domain $\\{x+iy \\mid x \\in [-1,1] , \\; y \\in [-1,1]\\}$."
   ]
  },
  {
   "cell_type": "code",
   "execution_count": null,
   "metadata": {
    "collapsed": true
   },
   "outputs": [],
   "source": []
  },
  {
   "cell_type": "markdown",
   "metadata": {},
   "source": [
    "Plot the function $f(z) = \\sqrt{z^2 + 1}$ on the domain $\\{x+iy \\mid x \\in [-3,3] , \\; y \\in [-3,3]\\}$."
   ]
  },
  {
   "cell_type": "code",
   "execution_count": null,
   "metadata": {
    "collapsed": true
   },
   "outputs": [],
   "source": []
  },
  {
   "cell_type": "markdown",
   "metadata": {},
   "source": [
    "## Problem 2"
   ]
  },
  {
   "cell_type": "code",
   "execution_count": 2,
   "metadata": {
    "collapsed": true
   },
   "outputs": [],
   "source": [
    "def plot_complex_magnitude(f, xbounds, ybounds, res=401):\n",
    "    \"\"\"Plot the magnitude of the complex function f.\n",
    "    INPUTS:\n",
    "        f - A function handle. Should represent a function from C to C.\n",
    "        xbounds - A tuple (xmin, xmax) describing the bounds on the real part of the domain.\n",
    "        ybounds - A tuple (ymin, ymax) describing the bounds on the imaginary part of the domain.\n",
    "        res - A scalar that determines the resolution of the plot (number of points\n",
    "            per side). Defaults to 401.\n",
    "    \n",
    "    OUTPUTS:\n",
    "        graph of the magnitude of the function f(z)\n",
    "    \"\"\"\n",
    "    raise NotImplementedError(\"Problem 2 Incomplete\")"
   ]
  },
  {
   "cell_type": "markdown",
   "metadata": {},
   "source": [
    "Plot $f(z) = \\sqrt{z^2 + 1}$ as in Problem 1, but plot the magnitude instead of the angle"
   ]
  },
  {
   "cell_type": "code",
   "execution_count": null,
   "metadata": {
    "collapsed": true
   },
   "outputs": [],
   "source": []
  },
  {
   "cell_type": "markdown",
   "metadata": {},
   "source": [
    "## Problem 3"
   ]
  },
  {
   "cell_type": "markdown",
   "metadata": {},
   "source": [
    "Plot the complex functions $z^2$, $z^3$, and $z^4$:"
   ]
  },
  {
   "cell_type": "code",
   "execution_count": null,
   "metadata": {
    "collapsed": true
   },
   "outputs": [],
   "source": []
  },
  {
   "cell_type": "markdown",
   "metadata": {},
   "source": [
    "Plot the complex function $f(z)  = z^3 - iz^4 - 3z^6$ on the domain $\\{x+iy \\mid x \\in [-1,1] , \\; y \\in [-1,1]\\}$."
   ]
  },
  {
   "cell_type": "code",
   "execution_count": null,
   "metadata": {
    "collapsed": true
   },
   "outputs": [],
   "source": []
  },
  {
   "cell_type": "markdown",
   "metadata": {},
   "source": [
    "Compare it to your plot of $z^3$, especially near the origin. Based on these plots, what can you learn about the zeros of a function from its graph?"
   ]
  },
  {
   "cell_type": "code",
   "execution_count": null,
   "metadata": {
    "collapsed": true
   },
   "outputs": [],
   "source": []
  },
  {
   "cell_type": "markdown",
   "metadata": {},
   "source": [
    "##  Problem 4"
   ]
  },
  {
   "cell_type": "markdown",
   "metadata": {},
   "source": [
    "Plot $f(z) = \\frac{1}{z}$"
   ]
  },
  {
   "cell_type": "code",
   "execution_count": null,
   "metadata": {
    "collapsed": true
   },
   "outputs": [],
   "source": []
  },
  {
   "cell_type": "markdown",
   "metadata": {},
   "source": [
    "How does this compare to the plot of $f(z) = z$?"
   ]
  },
  {
   "cell_type": "code",
   "execution_count": null,
   "metadata": {
    "collapsed": true
   },
   "outputs": [],
   "source": []
  },
  {
   "cell_type": "markdown",
   "metadata": {},
   "source": [
    "Plot $z^{-2}$, $z^{-3}$, $z^2 + iz^{-1} + z^{-3}$ on the domain $\\{x+iy \\mid x \\in [-1,1] , \\; y \\in [-1,1]\\}$. "
   ]
  },
  {
   "cell_type": "code",
   "execution_count": null,
   "metadata": {
    "collapsed": true
   },
   "outputs": [],
   "source": []
  },
  {
   "cell_type": "markdown",
   "metadata": {},
   "source": [
    "Compare the plots of the last two functions near the origin. Based on these plots, what can you learn about the poles of a function from its graph?"
   ]
  },
  {
   "cell_type": "code",
   "execution_count": null,
   "metadata": {
    "collapsed": true
   },
   "outputs": [],
   "source": []
  },
  {
   "cell_type": "markdown",
   "metadata": {},
   "source": [
    "## Problem 5"
   ]
  },
  {
   "cell_type": "markdown",
   "metadata": {},
   "source": [
    "Plot the following complex functions:\n",
    "\n",
    "+ $f(z) = e^z$ on $\\{ x+iy \\mid x \\in [-8,8], \\; y \\in [-8,8]\\}$\n",
    "+ $f(z) = \\tan(z)$ on $\\{x+iy \\mid x \\in [-8,8], \\; y \\in [-8,8]\\}$\n",
    "+ $f(z) = \\frac{16z^4+32z^3+32z^2+16z+4}{16z^4-16z^3+5z^2}$ on $\\{x+iy \\mid x \\in [-1,1], \\; y \\in [-1,1]\\}$\n",
    "\n",
    "For each one estimate the number and order of their poles and zeros."
   ]
  },
  {
   "cell_type": "code",
   "execution_count": null,
   "metadata": {
    "collapsed": true
   },
   "outputs": [],
   "source": []
  },
  {
   "cell_type": "markdown",
   "metadata": {},
   "source": [
    "## Problem 6"
   ]
  },
  {
   "cell_type": "markdown",
   "metadata": {},
   "source": [
    "Use complex plots to determine the multiplicity of the zeros of each of the following polynomials.\n",
    "Use the Fundamental Theorem of Algebra to ensure that you have found them all.\n",
    "\n",
    "+ $-4z^5+2z^4-2z^3-4z^2+4z-4$\n",
    "+ $z^7 + 6z^6 - 131z^5 - 419z^4 + 4906z^3 - 131z^2 - 420z + 4900$"
   ]
  },
  {
   "cell_type": "code",
   "execution_count": null,
   "metadata": {
    "collapsed": true
   },
   "outputs": [],
   "source": []
  },
  {
   "cell_type": "markdown",
   "metadata": {},
   "source": [
    "## Problem 7"
   ]
  },
  {
   "cell_type": "markdown",
   "metadata": {},
   "source": [
    "Plot the function $f(z) =\\sin( \\frac{1}{100z})$ on the domain $\\{x+iy \\mid x \\in [-1,1],\\; y \\in [-1,1]\\}$.\n",
    "What might you conclude about this function?"
   ]
  },
  {
   "cell_type": "code",
   "execution_count": null,
   "metadata": {
    "collapsed": true
   },
   "outputs": [],
   "source": []
  },
  {
   "cell_type": "markdown",
   "metadata": {},
   "source": [
    "Now plot $f(z)$ on $\\{x+iy \\mid x \\in [-.01,.01], \\; y \\in [-.01,.01]\\}$.\n",
    "Now what do you conclude about the function?"
   ]
  },
  {
   "cell_type": "code",
   "execution_count": null,
   "metadata": {
    "collapsed": true
   },
   "outputs": [],
   "source": []
  },
  {
   "cell_type": "markdown",
   "metadata": {},
   "source": [
    "Plot the function $f(z) = z+1000z^2$ on the domain $\\{x+iy \\mid x \\in [-1,1], \\; y \\in [-1,1]\\}$.\n",
    "What does this plot imply about the zeros of this function?"
   ]
  },
  {
   "cell_type": "code",
   "execution_count": null,
   "metadata": {
    "collapsed": true
   },
   "outputs": [],
   "source": []
  },
  {
   "cell_type": "markdown",
   "metadata": {},
   "source": [
    "Calculate the true zeros of $f(z)$."
   ]
  },
  {
   "cell_type": "code",
   "execution_count": null,
   "metadata": {
    "collapsed": true
   },
   "outputs": [],
   "source": []
  },
  {
   "cell_type": "markdown",
   "metadata": {},
   "source": [
    "Plot $f(z)$ on a domain that allows you to see the true nature of its zeros."
   ]
  },
  {
   "cell_type": "code",
   "execution_count": null,
   "metadata": {
    "collapsed": true
   },
   "outputs": [],
   "source": []
  },
  {
   "cell_type": "markdown",
   "metadata": {},
   "source": [
    "## Problem 8"
   ]
  },
  {
   "cell_type": "markdown",
   "metadata": {},
   "source": [
    "Plot $f(z) = \\sqrt{z}$"
   ]
  },
  {
   "cell_type": "code",
   "execution_count": null,
   "metadata": {
    "collapsed": true
   },
   "outputs": [],
   "source": []
  },
  {
   "cell_type": "markdown",
   "metadata": {},
   "source": [
    "Now plot $f(z) = -\\sqrt{z}$ to see the \"other square root\" of $z$. "
   ]
  },
  {
   "cell_type": "code",
   "execution_count": null,
   "metadata": {
    "collapsed": true
   },
   "outputs": [],
   "source": []
  },
  {
   "cell_type": "markdown",
   "metadata": {},
   "source": [
    "Describe why these two plots look the way they do."
   ]
  },
  {
   "cell_type": "code",
   "execution_count": null,
   "metadata": {
    "collapsed": true
   },
   "outputs": [],
   "source": []
  }
 ],
 "metadata": {
  "kernelspec": {
   "display_name": "Python 2",
   "language": "python",
   "name": "python2"
  },
  "language_info": {
   "codemirror_mode": {
    "name": "ipython",
    "version": 2
   },
   "file_extension": ".py",
   "mimetype": "text/x-python",
   "name": "python",
   "nbconvert_exporter": "python",
   "pygments_lexer": "ipython2",
   "version": "2.7.12"
  }
 },
 "nbformat": 4,
 "nbformat_minor": 0
}
