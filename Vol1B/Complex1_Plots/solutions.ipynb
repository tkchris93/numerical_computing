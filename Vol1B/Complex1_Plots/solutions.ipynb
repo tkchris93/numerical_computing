{
 "cells": [
  {
   "cell_type": "markdown",
   "metadata": {},
   "source": [
    "# Complex 1: Plots. Solutions Notebook."
   ]
  },
  {
   "cell_type": "code",
   "execution_count": null,
   "metadata": {
    "collapsed": false
   },
   "outputs": [],
   "source": [
    "import numpy as np\n",
    "from matplotlib import pyplot as plt\n",
    "% matplotlib inline"
   ]
  },
  {
   "cell_type": "code",
   "execution_count": null,
   "metadata": {
    "collapsed": true
   },
   "outputs": [],
   "source": [
    "# Complex plot of the angle\n",
    "def plot_complex(p, xbounds=(-1, 1), ybounds=(-1, 1), res=401, title=\"\"):\n",
    "    x = np.linspace(xbounds[0], xbounds[1], res)\n",
    "    y = np.linspace(ybounds[0], ybounds[1], res)\n",
    "    X,Y = np.meshgrid(x, y)\n",
    "    Z = p(X+Y*1j)\n",
    "    plt.pcolormesh(X,Y, np.angle(Z), cmap='hsv',vmin=-np.pi, vmax=np.pi)\n",
    "    plt.xlim(xbounds)\n",
    "    plt.ylim(ybounds)\n",
    "    plt.title(title)\n",
    "    plt.show()"
   ]
  },
  {
   "cell_type": "code",
   "execution_count": null,
   "metadata": {
    "collapsed": false
   },
   "outputs": [],
   "source": [
    "plot_complex(lambda z:z,title=\"Identity function\")"
   ]
  },
  {
   "cell_type": "code",
   "execution_count": null,
   "metadata": {
    "collapsed": true
   },
   "outputs": [],
   "source": [
    "# Complex plot of the magnitude\n",
    "def plot_complex_magnitude(p, xbounds=(-1, 1), ybounds=(-1, 1), res=401, title=\"\"):\n",
    "    x = np.linspace(xbounds[0], xbounds[1], res)\n",
    "    y = np.linspace(ybounds[0], ybounds[1], res)\n",
    "    X,Y = np.meshgrid(x, y)\n",
    "    Z = p(X+Y*1j)\n",
    "    plt.pcolormesh(X,Y, np.absolute(Z), cmap='YlGnBu_r')\n",
    "    plt.colorbar()\n",
    "    plt.xlim(xbounds)\n",
    "    plt.ylim(ybounds)\n",
    "    plt.show()"
   ]
  },
  {
   "cell_type": "markdown",
   "metadata": {},
   "source": [
    "## Problem 1\n",
    "To test our complex plotting code, we plot the function $f(z) = \\sqrt{z^2 + 1}$ on the domain $\\{x+iy \\mid x \\in [-3,3] , \\; y \\in [-3,3]\\}$."
   ]
  },
  {
   "cell_type": "code",
   "execution_count": null,
   "metadata": {
    "collapsed": false
   },
   "outputs": [],
   "source": [
    "f1 = lambda z: np.sqrt(z**2 + 1)\n",
    "plot_complex(f1,(-3,3),(-3,3))"
   ]
  },
  {
   "cell_type": "markdown",
   "metadata": {},
   "source": [
    "## Problem 2\n",
    "Again we plot the $f(z) = \\sqrt{z^2 + 1}$ as in Problem 1, but we plot the magnitude instead of the angle. Note that while discontinuities are clearly visible when plotting the angle, they disappear in a plot of the magnitude."
   ]
  },
  {
   "cell_type": "code",
   "execution_count": null,
   "metadata": {
    "collapsed": false
   },
   "outputs": [],
   "source": [
    "f1 = lambda z: np.sqrt(z**2 + 1)\n",
    "plot_complex_r(f1,(-3,3),(-3,3))"
   ]
  },
  {
   "cell_type": "markdown",
   "metadata": {
    "collapsed": false
   },
   "source": [
    "## Problem 3\n",
    "Complex plots of $z^2$, $z^3$, and $z^4$:"
   ]
  },
  {
   "cell_type": "code",
   "execution_count": null,
   "metadata": {
    "collapsed": false
   },
   "outputs": [],
   "source": [
    "plt.figure(figsize=(3,3))\n",
    "plot_complex(lambda z:z**2, title=r\"$z^2$\")\n",
    "plt.figure(figsize=(3,3))\n",
    "plot_complex(lambda z:z**3, title=r\"$z^3$\")\n",
    "plt.figure(figsize=(3,3))\n",
    "plot_complex(lambda z:z**4, title=r\"$z^4$\")"
   ]
  },
  {
   "cell_type": "markdown",
   "metadata": {
    "collapsed": true
   },
   "source": [
    "We can see that the colors cycle $n$ times counterclockwise around the origin in a plot of $z^n$. Below is a plot of the function $f(z)  = z^3 - iz^4 - 3z^6$."
   ]
  },
  {
   "cell_type": "code",
   "execution_count": null,
   "metadata": {
    "collapsed": false
   },
   "outputs": [],
   "source": [
    "f3 = lambda z: z**3 - 1j*z**4 - 3*z**6\n",
    "plot_complex(f3)"
   ]
  },
  {
   "cell_type": "markdown",
   "metadata": {},
   "source": [
    "## Problem 4\n",
    "Behold! In this plot of $f(z) = \\frac{1}{z}$, the colors cycle clockwise instead of counterclockwise."
   ]
  },
  {
   "cell_type": "code",
   "execution_count": null,
   "metadata": {
    "collapsed": false
   },
   "outputs": [],
   "source": [
    "plot_complex(lambda z:1./z,res=400) #changed res to avoid division-by-zero error"
   ]
  },
  {
   "cell_type": "markdown",
   "metadata": {},
   "source": [
    "The following are the plots in part 2 of the problem. Just as with zeros, we can visually estimate the poles and their order by looking at points where the colors cycle clockwise."
   ]
  },
  {
   "cell_type": "code",
   "execution_count": null,
   "metadata": {
    "collapsed": false
   },
   "outputs": [],
   "source": [
    "plt.figure(figsize=(3,3))\n",
    "plot_complex(lambda z:z**-2, title=r\"$z^{-2}$\",res=400)\n",
    "plt.figure(figsize=(3,3))\n",
    "plot_complex(lambda z:z**-3, title=r\"$z^{-2}$\",res=400)\n",
    "plt.figure(figsize=(3,3))\n",
    "plot_complex(lambda z:z**2 + 1j*z**-1 + z**-3, title=r\"$z^2 + iz^{-1} + z^{-3}$\",res=400)"
   ]
  },
  {
   "cell_type": "markdown",
   "metadata": {},
   "source": [
    "# Problem 5"
   ]
  },
  {
   "cell_type": "markdown",
   "metadata": {},
   "source": [
    "The following plot is of $f(z) = e^z$. It has no zeros or poles anywhere in $\\mathbb{C}$.\n",
    "\n",
    "How interesting! This is because $f$ maps $x + iy$ to $e^{x + iy} = xe^{iy}$. Thus $y$ in the input equals $\\theta$ in the output. If we hold $y$ constant we also hold the output angle constant."
   ]
  },
  {
   "cell_type": "code",
   "execution_count": null,
   "metadata": {
    "collapsed": false
   },
   "outputs": [],
   "source": [
    "plot_complex(np.exp, xbounds=(-8,8),ybounds=(-8,8))"
   ]
  },
  {
   "cell_type": "markdown",
   "metadata": {},
   "source": [
    "Here is a plot of $f(z) = \\tan(z)$. This function has zeros along the real axis at $z = n\\pi$ and poles along the real axis at $z = \\frac{\\pi}{2} + n\\pi$. All are of order 1."
   ]
  },
  {
   "cell_type": "code",
   "execution_count": null,
   "metadata": {
    "collapsed": false
   },
   "outputs": [],
   "source": [
    "plot_complex(np.tan, xbounds=(-8,8), ybounds=(-8,8))"
   ]
  },
  {
   "cell_type": "markdown",
   "metadata": {},
   "source": [
    "In the plot of this function, we see 1 pole at the origin of order 2, 2 more poles of order 1, and 2 zeros of order 2."
   ]
  },
  {
   "cell_type": "code",
   "execution_count": null,
   "metadata": {
    "collapsed": false
   },
   "outputs": [],
   "source": [
    "f4 = lambda z: (16*z**4 + 32*z**3 + 32*z**2 + 16*z + 4)/(16*z**4 - 16*z**3 + 5*z**2)\n",
    "plot_complex(f4, res = 500)"
   ]
  },
  {
   "cell_type": "markdown",
   "metadata": {},
   "source": [
    "## Problem 6\n",
    "We use complex plots to determine the multiplicity of zeros in the following polynomials."
   ]
  },
  {
   "cell_type": "markdown",
   "metadata": {},
   "source": [
    "$−4z^5 +2z^4 −2z^3 −4z^2 +4z−4$\n",
    "\n",
    "5 of order 1"
   ]
  },
  {
   "cell_type": "code",
   "execution_count": null,
   "metadata": {
    "collapsed": false
   },
   "outputs": [],
   "source": [
    "poly1 =  lambda z: -4*z**5 +2*z**4 -2*z**3 -4*z**2 +4*z -4\n",
    "plot_complex(poly1,xbounds=(-2,2),ybounds=(-2,2))"
   ]
  },
  {
   "cell_type": "markdown",
   "metadata": {},
   "source": [
    "$z^7 +6z^6 −131z^5 −419z^4 +4906z^3 −131z^2 −420z+4900$\n",
    "\n",
    "2 of order 2, 3 of order 1"
   ]
  },
  {
   "cell_type": "code",
   "execution_count": null,
   "metadata": {
    "collapsed": false
   },
   "outputs": [],
   "source": [
    "poly2 =  lambda z:z**7 +6*z**6 -131*z**5 -419*z**4 +4906*z**3 -131*z**2 -420*z+4900\n",
    "plot_complex(poly2,xbounds=(-12,10),ybounds=(-3,3),res=801)"
   ]
  },
  {
   "cell_type": "markdown",
   "metadata": {},
   "source": [
    "## Problem 7\n",
    "In the example below we plot the function $f(z) = \\sin(\\frac{1}{100z})$. What looks like a pole of order 1 at the origin before we zoom in, is actually an essential singularity surrounded by zeros."
   ]
  },
  {
   "cell_type": "code",
   "execution_count": null,
   "metadata": {
    "collapsed": false
   },
   "outputs": [],
   "source": [
    "f5 = lambda z:np.sin(1/(100*z))\n",
    "plot_complex(f5,res=400,title=\"Zoomed out\")\n",
    "plot_complex(f5,xbounds=(-.01,.01),ybounds=(-.01,.01),res=400,title=\"Zoomed in\")"
   ]
  },
  {
   "cell_type": "markdown",
   "metadata": {},
   "source": [
    "In the second example, the two zeros of $f(z) = z + 1000z^2$ appear to be a single zero of order 2 at the origin until we zoom in. The actual zeros occur at $z = 0$ and $z = -0.001$."
   ]
  },
  {
   "cell_type": "code",
   "execution_count": null,
   "metadata": {
    "collapsed": false
   },
   "outputs": [],
   "source": [
    "f6 = lambda z:z + 1000*z**2\n",
    "plot_complex(f6,title=\"Zoomed out\")\n",
    "narrow_bounds = (-.006,.006)\n",
    "plot_complex(f6,xbounds=narrow_bounds,ybounds=narrow_bounds,title=\"Zoomed in\")"
   ]
  },
  {
   "cell_type": "markdown",
   "metadata": {},
   "source": [
    "## Problem 8\n",
    "Here we plot the positive and negative complex square root."
   ]
  },
  {
   "cell_type": "code",
   "execution_count": null,
   "metadata": {
    "collapsed": false
   },
   "outputs": [],
   "source": [
    "plot_complex(np.sqrt)\n",
    "plot_complex(lambda z:-np.sqrt(z))"
   ]
  }
 ],
 "metadata": {
  "kernelspec": {
   "display_name": "Python 2",
   "language": "python",
   "name": "python2"
  },
  "language_info": {
   "codemirror_mode": {
    "name": "ipython",
    "version": 2
   },
   "file_extension": ".py",
   "mimetype": "text/x-python",
   "name": "python",
   "nbconvert_exporter": "python",
   "pygments_lexer": "ipython2",
   "version": "2.7.12"
  }
 },
 "nbformat": 4,
 "nbformat_minor": 0
}
